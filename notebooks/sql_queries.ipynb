{
 "cells": [
  {
   "cell_type": "code",
   "execution_count": null,
   "id": "333adb4b-8110-4576-8cd4-2a334a7cd7b3",
   "metadata": {},
   "outputs": [],
   "source": []
  },
  {
   "cell_type": "code",
   "execution_count": 5,
   "id": "ef459866-907e-4373-afde-6ef7ad1f35db",
   "metadata": {},
   "outputs": [
    {
     "name": "stdout",
     "output_type": "stream",
     "text": [
      "Top 10 Postal Codes by Total Sales:\n",
      "  postal_code  num_orders  total_sales   avg_sales\n",
      "0     10024.0         225    78534.044  349.040196\n",
      "1     10035.0         253    75151.829  297.042802\n",
      "2     10009.0         220    53225.076  241.932164\n",
      "3     94122.0         195    49114.375  251.868590\n",
      "4     10011.0         193    45551.598  236.018642\n",
      "5     98105.0         165    41838.008  253.563685\n",
      "6     98115.0         112    41160.908  367.508107\n",
      "7     19134.0         160    39390.293  246.189331\n",
      "8     32216.0          75    39133.328  521.777707\n",
      "9     90049.0         150    37889.924  252.599493 \n",
      "\n"
     ]
    }
   ],
   "source": [
    "\n",
    "#: SQL Queries on Cleaned Data\n",
    "\n",
    "import pandas as pd\n",
    "import sqlite3\n",
    "\n",
    "# Connect to the cleaned SQLite DB\n",
    "conn = sqlite3.connect(\"sales.db\")\n",
    "\n",
    "# Top 10 Postal Codes by Total Sales\n",
    "query_postal_sales = \"\"\"\n",
    "SELECT postal_code,\n",
    "       COUNT(*) AS num_orders,\n",
    "       SUM(sales) AS total_sales,\n",
    "       AVG(sales) AS avg_sales\n",
    "FROM sales\n",
    "GROUP BY postal_code\n",
    "ORDER BY total_sales DESC\n",
    "LIMIT 10;\n",
    "\"\"\"\n",
    "top_postal_sales = pd.read_sql(query_postal_sales, conn)\n",
    "print(\"Top 10 Postal Codes by Total Sales:\")\n",
    "print(top_postal_sales, \"\\n\")\n",
    "\n"
   ]
  },
  {
   "cell_type": "code",
   "execution_count": 6,
   "id": "b4df8eeb-316c-4fa1-8fee-19a138ec9759",
   "metadata": {},
   "outputs": [
    {
     "name": "stdout",
     "output_type": "stream",
     "text": [
      "Sales by Category:\n",
      "          category  total_sales  avg_sales_per_order  num_orders\n",
      "0       Technology  827455.8730           456.401474        1813\n",
      "1        Furniture  728658.5757           350.653790        2078\n",
      "2  Office Supplies  705422.3340           119.381001        5909 \n",
      "\n"
     ]
    }
   ],
   "source": [
    "# Sales by Category\n",
    "query_category_sales = \"\"\"\n",
    "SELECT category,\n",
    "       SUM(sales) AS total_sales,\n",
    "       AVG(sales) AS avg_sales_per_order,\n",
    "       COUNT(*) AS num_orders\n",
    "FROM sales\n",
    "GROUP BY category\n",
    "ORDER BY total_sales DESC;\n",
    "\"\"\"\n",
    "category_sales = pd.read_sql(query_category_sales, conn)\n",
    "print(\"Sales by Category:\")\n",
    "print(category_sales, \"\\n\")\n",
    "\n"
   ]
  },
  {
   "cell_type": "code",
   "execution_count": 7,
   "id": "af03f299-6fb5-44e6-b931-e0fd48017254",
   "metadata": {},
   "outputs": [
    {
     "name": "stdout",
     "output_type": "stream",
     "text": [
      "Sales by Sub-Category:\n",
      "   sub_category  total_sales  avg_sales_per_order  num_orders\n",
      "0        Phones  327782.4480           374.180877         876\n",
      "1        Chairs  322822.7310           531.833165         607\n",
      "2       Storage  219343.3920           263.633885         832\n",
      "3        Tables  202810.6280           645.893720         314\n",
      "4       Binders  200028.7850           134.067550        1492\n",
      "5      Machines  189238.6310          1645.553313         115\n",
      "6   Accessories  164186.7000           217.178175         756\n",
      "7       Copiers  146248.0940          2215.880212          66\n",
      "8     Bookcases  113813.1987           503.598224         226\n",
      "9    Appliances  104618.4030           227.926804         459\n",
      "10  Furnishings   89212.0180            95.823865         931\n",
      "11        Paper   76828.3040            57.420257        1338\n",
      "12     Supplies   46420.3080           252.284283         184\n",
      "13          Art   26705.4100            34.019631         785\n",
      "14    Envelopes   16128.0460            65.032444         248\n",
      "15       Labels   12347.7260            34.587468         357\n",
      "16    Fasteners    3001.9600            14.027850         214 \n",
      "\n"
     ]
    }
   ],
   "source": [
    "# Sales by Sub-Category\n",
    "query_subcategory_sales = \"\"\"\n",
    "SELECT sub_category,\n",
    "       SUM(sales) AS total_sales,\n",
    "       AVG(sales) AS avg_sales_per_order,\n",
    "       COUNT(*) AS num_orders\n",
    "FROM sales\n",
    "GROUP BY sub_category\n",
    "ORDER BY total_sales DESC;\n",
    "\"\"\"\n",
    "subcategory_sales = pd.read_sql(query_subcategory_sales, conn)\n",
    "print(\"Sales by Sub-Category:\")\n",
    "print(subcategory_sales, \"\\n\")\n",
    "\n"
   ]
  },
  {
   "cell_type": "code",
   "execution_count": 8,
   "id": "243ceb5e-2c3d-45eb-bc1b-5133f2a5bdeb",
   "metadata": {},
   "outputs": [
    {
     "name": "stdout",
     "output_type": "stream",
     "text": [
      "Top 10 Products by Sales:\n",
      "                                        product_name  total_sales  num_orders  \\\n",
      "0              Canon imageCLASS 2200 Advanced Copier    61599.824           5   \n",
      "1  Fellowes PB500 Electric Punch Plastic Comb Bin...    27453.384          10   \n",
      "2  Cisco TelePresence System EX90 Videoconferenci...    22638.480           1   \n",
      "3       HON 5400 Series Task Chairs for Big and Tall    21870.576           8   \n",
      "4         GBC DocuBind TL300 Electric Binding System    19823.479          11   \n",
      "5   GBC Ibimaster 500 Manual ProClick Binding System    19024.500           9   \n",
      "6               Hewlett Packard LaserJet 3310 Copier    18839.686           8   \n",
      "7  HP Designjet T520 Inkjet Large Format Printer ...    18374.895           3   \n",
      "8          GBC DocuBind P400 Electric Binding System    17965.068           6   \n",
      "9        High Speed Automatic Electric Letter Opener    17030.312           3   \n",
      "\n",
      "   avg_sales_per_order  \n",
      "0         12319.964800  \n",
      "1          2745.338400  \n",
      "2         22638.480000  \n",
      "3          2733.822000  \n",
      "4          1802.134455  \n",
      "5          2113.833333  \n",
      "6          2354.960750  \n",
      "7          6124.965000  \n",
      "8          2994.178000  \n",
      "9          5676.770667   \n",
      "\n"
     ]
    }
   ],
   "source": [
    "# Top 10 Products by Sales\n",
    "query_top_products = \"\"\"\n",
    "SELECT product_name,\n",
    "       SUM(sales) AS total_sales,\n",
    "       COUNT(*) AS num_orders,\n",
    "       AVG(sales) AS avg_sales_per_order\n",
    "FROM sales\n",
    "GROUP BY product_name\n",
    "ORDER BY total_sales DESC\n",
    "LIMIT 10;\n",
    "\"\"\"\n",
    "top_products = pd.read_sql(query_top_products, conn)\n",
    "print(\"Top 10 Products by Sales:\")\n",
    "print(top_products, \"\\n\")\n",
    "\n"
   ]
  },
  {
   "cell_type": "code",
   "execution_count": 9,
   "id": "886b320a-8ba2-4039-b5a9-2eaa435bb1ef",
   "metadata": {},
   "outputs": [
    {
     "name": "stdout",
     "output_type": "stream",
     "text": [
      "Top 10 Customers by Sales:\n",
      "        customer_name  total_sales  num_orders  avg_sales_per_order\n",
      "0         Sean Miller    25043.050          15          1669.536667\n",
      "1        Tamara Chand    19052.218          12          1587.684833\n",
      "2        Raymond Buch    15117.339          18           839.852167\n",
      "3        Tom Ashbrook    14595.620          10          1459.562000\n",
      "4       Adrian Barton    14473.571          20           723.678550\n",
      "5        Ken Lonsdale    14175.229          29           488.801000\n",
      "6        Sanjit Chand    14142.334          22           642.833364\n",
      "7        Hunter Lopez    12873.298          11          1170.299818\n",
      "8        Sanjit Engle    12209.438          19           642.602000\n",
      "9  Christopher Conant    12129.072          11          1102.642909 \n",
      "\n"
     ]
    }
   ],
   "source": [
    "# Top 10 Customers by Sales\n",
    "query_top_customers = \"\"\"\n",
    "SELECT customer_name,\n",
    "       SUM(sales) AS total_sales,\n",
    "       COUNT(*) AS num_orders,\n",
    "       AVG(sales) AS avg_sales_per_order\n",
    "FROM sales\n",
    "GROUP BY customer_name\n",
    "ORDER BY total_sales DESC\n",
    "LIMIT 10;\n",
    "\"\"\"\n",
    "top_customers = pd.read_sql(query_top_customers, conn)\n",
    "print(\"Top 10 Customers by Sales:\")\n",
    "print(top_customers, \"\\n\")\n",
    "\n"
   ]
  },
  {
   "cell_type": "code",
   "execution_count": 10,
   "id": "2f817ca0-613b-4d7d-b312-f7b1a64b3c34",
   "metadata": {},
   "outputs": [
    {
     "name": "stdout",
     "output_type": "stream",
     "text": [
      "Sales by Segment:\n",
      "       segment   total_sales   avg_sales\n",
      "0     Consumer  1.148061e+06  225.065777\n",
      "1    Corporate  6.884941e+05  233.150720\n",
      "2  Home Office  4.249822e+05  243.403309 \n",
      "\n"
     ]
    }
   ],
   "source": [
    "# Sales by Segment\n",
    "query_segment_sales = \"\"\"\n",
    "SELECT segment,\n",
    "       SUM(sales) AS total_sales,\n",
    "       AVG(sales) AS avg_sales\n",
    "FROM sales\n",
    "GROUP BY segment\n",
    "ORDER BY total_sales DESC;\n",
    "\"\"\"\n",
    "segment_sales = pd.read_sql(query_segment_sales, conn)\n",
    "print(\"Sales by Segment:\")\n",
    "print(segment_sales, \"\\n\")\n",
    "\n"
   ]
  },
  {
   "cell_type": "code",
   "execution_count": 11,
   "id": "a1952e3c-1c08-4363-9c25-045cdb3628c5",
   "metadata": {},
   "outputs": [
    {
     "name": "stdout",
     "output_type": "stream",
     "text": [
      "Sales by Region:\n",
      "    region  total_sales\n",
      "0     West  710219.6845\n",
      "1     East  669518.7260\n",
      "2  Central  492646.9132\n",
      "3    South  389151.4590 \n",
      "\n",
      "Sales by State:\n",
      "                   state  total_sales\n",
      "0             California  446306.4635\n",
      "1               New York  306361.1470\n",
      "2                  Texas  168572.5322\n",
      "3             Washington  135206.8500\n",
      "4           Pennsylvania  116276.6500\n",
      "5                Florida   88436.5320\n",
      "6               Illinois   79236.5170\n",
      "7               Michigan   76136.0740\n",
      "8                   Ohio   75130.3500\n",
      "9               Virginia   70636.7200\n",
      "10        North Carolina   55165.9640\n",
      "11               Indiana   48718.4000\n",
      "12               Georgia   48219.1100\n",
      "13              Kentucky   36458.3900\n",
      "14               Arizona   35272.6570\n",
      "15            New Jersey   34610.9720\n",
      "16              Colorado   31841.5980\n",
      "17             Wisconsin   31173.4300\n",
      "18             Tennessee   30661.8730\n",
      "19             Minnesota   29863.1500\n",
      "20         Massachusetts   28634.4340\n",
      "21              Delaware   27322.9990\n",
      "22              Maryland   23705.5230\n",
      "23          Rhode Island   22525.0260\n",
      "24              Missouri   22205.1500\n",
      "25              Oklahoma   19683.3900\n",
      "26               Alabama   19510.6400\n",
      "27                Oregon   17284.4620\n",
      "28                Nevada   16729.1020\n",
      "29           Connecticut   13384.3570\n",
      "30              Arkansas   11678.1300\n",
      "31                  Utah   11220.0560\n",
      "32           Mississippi   10771.3400\n",
      "33             Louisiana    9131.0500\n",
      "34               Vermont    8929.3700\n",
      "35        South Carolina    8481.7100\n",
      "36              Nebraska    7464.9300\n",
      "37         New Hampshire    7292.5240\n",
      "38               Montana    5589.3520\n",
      "39            New Mexico    4783.5220\n",
      "40                  Iowa    4443.5600\n",
      "41                 Idaho    4382.4860\n",
      "42                Kansas    2914.3100\n",
      "43  District of Columbia    2865.0200\n",
      "44               Wyoming    1603.1360\n",
      "45          South Dakota    1315.5600\n",
      "46                 Maine    1270.5300\n",
      "47         West Virginia    1209.8240\n",
      "48          North Dakota     919.9100 \n",
      "\n"
     ]
    }
   ],
   "source": [
    "# Sales by Region and State\n",
    "query_region_sales = \"\"\"\n",
    "SELECT region, SUM(sales) AS total_sales\n",
    "FROM sales\n",
    "GROUP BY region\n",
    "ORDER BY total_sales DESC;\n",
    "\"\"\"\n",
    "region_sales = pd.read_sql(query_region_sales, conn)\n",
    "\n",
    "query_state_sales = \"\"\"\n",
    "SELECT state, SUM(sales) AS total_sales\n",
    "FROM sales\n",
    "GROUP BY state\n",
    "ORDER BY total_sales DESC;\n",
    "\"\"\"\n",
    "state_sales = pd.read_sql(query_state_sales, conn)\n",
    "\n",
    "print(\"Sales by Region:\")\n",
    "print(region_sales, \"\\n\")\n",
    "print(\"Sales by State:\")\n",
    "print(state_sales, \"\\n\")\n",
    "\n"
   ]
  },
  {
   "cell_type": "code",
   "execution_count": 12,
   "id": "2c467de4-0359-48e7-80f3-0f91897ce940",
   "metadata": {},
   "outputs": [
    {
     "name": "stdout",
     "output_type": "stream",
     "text": [
      "Sales by Ship Mode:\n",
      "        ship_mode   total_sales  num_orders\n",
      "0  Standard Class  1.340831e+06        5859\n",
      "1    Second Class  4.499142e+05        1902\n",
      "2     First Class  3.455723e+05        1501\n",
      "3        Same Day  1.252190e+05         538 \n",
      "\n",
      "✅ All SQL queries executed successfully!\n"
     ]
    }
   ],
   "source": [
    "# Sales by Ship Mode\n",
    "query_shipmode_sales = \"\"\"\n",
    "SELECT ship_mode,\n",
    "       SUM(sales) AS total_sales,\n",
    "       COUNT(*) AS num_orders\n",
    "FROM sales\n",
    "GROUP BY ship_mode\n",
    "ORDER BY total_sales DESC;\n",
    "\"\"\"\n",
    "shipmode_sales = pd.read_sql(query_shipmode_sales, conn)\n",
    "print(\"Sales by Ship Mode:\")\n",
    "print(shipmode_sales, \"\\n\")\n",
    "\n",
    "\n",
    "\n",
    "print(\"✅ All SQL queries executed successfully!\")\n"
   ]
  },
  {
   "cell_type": "code",
   "execution_count": null,
   "id": "700cfe94-37fd-4329-9f69-3a84092cad43",
   "metadata": {},
   "outputs": [],
   "source": []
  }
 ],
 "metadata": {
  "kernelspec": {
   "display_name": "Python 3 (ipykernel)",
   "language": "python",
   "name": "python3"
  },
  "language_info": {
   "codemirror_mode": {
    "name": "ipython",
    "version": 3
   },
   "file_extension": ".py",
   "mimetype": "text/x-python",
   "name": "python",
   "nbconvert_exporter": "python",
   "pygments_lexer": "ipython3",
   "version": "3.12.6"
  }
 },
 "nbformat": 4,
 "nbformat_minor": 5
}
